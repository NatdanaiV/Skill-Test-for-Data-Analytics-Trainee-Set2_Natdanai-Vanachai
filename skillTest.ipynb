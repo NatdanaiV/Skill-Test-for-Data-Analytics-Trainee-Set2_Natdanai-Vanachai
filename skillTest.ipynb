{
 "cells": [
  {
   "cell_type": "code",
   "execution_count": null,
   "id": "c65c353c",
   "metadata": {},
   "outputs": [],
   "source": [
    "import pandas as pd\n",
    "import glob\n",
    "import os\n",
    "\n",
    "new_employee_df = pd.read_excel('New_Employee_202502.xlsx')\n",
    "result = []\n",
    "daily_files = glob.glob('Daily_report_*.xls')\n",
    "\n",
    "for file in daily_files:\n",
    "    base = os.path.basename(file)\n",
    "    team_member = base.split('_')[2] + ' ' + base.split('_')[3].replace('.xls', '')\n",
    "    df = pd.read_excel(file)\n",
    "    passed = df[(df['Interview'] == 'Yes') & (df['Status'] == 'Pass')]   \n",
    "    for _, row in passed.iterrows():\n",
    "        name = row['Candidate Name']\n",
    "        matched = new_employee_df[new_employee_df['Employee Name'] == name]       \n",
    "        if not matched.empty:\n",
    "            employee = matched.iloc[0]\n",
    "            result.append({\n",
    "                'Employee Name': employee['Employee Name'],\n",
    "                'Join Date': employee['Join Date'],\n",
    "                'Role': employee['Role'],\n",
    "                'Team Member': team_member\n",
    "            })\n",
    "result_df = pd.DataFrame(result)\n",
    "print(result_df)\n",
    "result_df.to_excel('Summary_New_Employees.xlsx', index=False)"
   ]
  }
 ],
 "metadata": {
  "language_info": {
   "name": "python"
  }
 },
 "nbformat": 4,
 "nbformat_minor": 5
}
